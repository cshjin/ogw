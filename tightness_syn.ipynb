{
 "cells": [
  {
   "cell_type": "markdown",
   "metadata": {},
   "source": [
    "# Check tightness in synthetic data."
   ]
  },
  {
   "cell_type": "code",
   "execution_count": 1,
   "metadata": {},
   "outputs": [
    {
     "name": "stderr",
     "output_type": "stream",
     "text": [
      "/home/hjin/miniconda3/envs/ogw_dev/lib/python3.7/site-packages/tqdm/auto.py:22: TqdmWarning: IProgress not found. Please update jupyter and ipywidgets. See https://ipywidgets.readthedocs.io/en/stable/user_install.html\n",
      "  from .autonotebook import tqdm as notebook_tqdm\n"
     ]
    }
   ],
   "source": [
    "from collections import defaultdict\n",
    "import networkx as nx\n",
    "import numpy as np\n",
    "from ot.gromov import gromov_wasserstein\n",
    "\n",
    "from ogw.gromov_prox import projection_matrix\n",
    "from ogw.gw_lb import flb, slb, tlb\n",
    "from ogw.ogw_dist import ogw_lb, ogw_ub\n",
    "from ogw.utils import random_perturb\n",
    "from torch_geometric.datasets import TUDataset\n",
    "import os.path as osp\n",
    "from tqdm import tqdm\n",
    "import matplotlib.pyplot as plt"
   ]
  },
  {
   "cell_type": "code",
   "execution_count": 2,
   "metadata": {},
   "outputs": [],
   "source": [
    "# build path graph with structural noise\n",
    "m, n = 20, 20\n",
    "ROUND = 50\n",
    "# connected graph\n",
    "G1 = nx.path_graph(m)\n",
    "A1 = nx.adjacency_matrix(G1).toarray()\n",
    "# shortest path as cost matrix\n",
    "C = np.array(nx.floyd_warshall_numpy(G1))\n",
    "\n",
    "# uniform distribution\n",
    "pc = np.ones(m) / m\n",
    "pd = np.ones(n) / n\n"
   ]
  },
  {
   "cell_type": "code",
   "execution_count": 3,
   "metadata": {},
   "outputs": [
    {
     "name": "stderr",
     "output_type": "stream",
     "text": [
      "Perturbation: 100%|██████████| 10/10 [01:04<00:00,  6.49s/it]\n"
     ]
    }
   ],
   "source": [
    "GWs = defaultdict(list)\n",
    "GWs_flb = defaultdict(list)\n",
    "GWs_slb = defaultdict(list)\n",
    "GWs_tlb = defaultdict(list)\n",
    "\n",
    "OGWs_lb = defaultdict(list)\n",
    "OGWs_ub = defaultdict(list)\n",
    "\n",
    "for budget in tqdm(range(1, 11), desc=\"Perturbation\"):\n",
    "    for r in range(ROUND):\n",
    "        # random perturb graph\n",
    "        A2 = random_perturb(A1, n=budget, seed=r)\n",
    "        G2 = nx.from_numpy_array(A2)\n",
    "        D = np.array(nx.floyd_warshall_numpy(G2))\n",
    "\n",
    "        ''' gw '''\n",
    "        T, gw_log = gromov_wasserstein(C, D, pc, pd, loss_fun=\"square_loss\", log=True)\n",
    "\n",
    "        # lower bounds of GW\n",
    "        flb_dist = flb(C, D, p=2)\n",
    "        slb_dist = slb(C, D, p=2)\n",
    "        tlb_dist = tlb(C, D, p=2)\n",
    "\n",
    "        ''' ogw '''\n",
    "        ogw_ub_loss, P = ogw_ub(C, D, return_matrix=True)\n",
    "        ogw_lb_loss, Q1, Q2 = ogw_lb(C, D, return_matrix=True)\n",
    "\n",
    "        U = projection_matrix(m)\n",
    "        V = projection_matrix(n)\n",
    "        em = np.ones((m, 1))\n",
    "        en = np.ones((n, 1))\n",
    "        C_norm = np.linalg.norm(C)\n",
    "        D_norm = np.linalg.norm(D)\n",
    "\n",
    "        GWs[budget].append(gw_log['gw_dist'])\n",
    "        GWs_flb[budget].append(flb_dist)\n",
    "        GWs_slb[budget].append(slb_dist)\n",
    "        GWs_tlb[budget].append(tlb_dist)\n",
    "        OGWs_ub[budget].append(ogw_ub_loss)\n",
    "        OGWs_lb[budget].append(ogw_lb_loss)\n"
   ]
  },
  {
   "cell_type": "code",
   "execution_count": 4,
   "metadata": {},
   "outputs": [
    {
     "data": {
      "text/plain": [
       "Text(0.5, 0, '$\\\\delta_g$')"
      ]
     },
     "execution_count": 4,
     "metadata": {},
     "output_type": "execute_result"
    },
    {
     "data": {
      "image/png": "[encoded data removed]",
      "text/plain": [
       "<Figure size 252x216 with 1 Axes>"
      ]
     },
     "metadata": {
      "needs_background": "light"
     },
     "output_type": "display_data"
    },
    {
     "data": {
      "image/png": "[encoded data removed]",
      "text/plain": [
       "<Figure size 252x216 with 1 Axes>"
      ]
     },
     "metadata": {
      "needs_background": "light"
     },
     "output_type": "display_data"
    }
   ],
   "source": [
    "# Plot the figures\n",
    "xs = list(GWs.keys())\n",
    "GWs_avg = np.mean(list(GWs.values()), axis=1)\n",
    "GWs_flb_avg = np.mean(list(GWs_flb.values()), axis=1)\n",
    "GWs_slb_avg = np.mean(list(GWs_slb.values()), axis=1)\n",
    "GWs_tlb_avg = np.mean(list(GWs_tlb.values()), axis=1)\n",
    "OGWs_ub_avg = np.mean(list(OGWs_ub.values()), axis=1)\n",
    "OGWs_lb_avg = np.mean(list(OGWs_lb.values()), axis=1)\n",
    "\n",
    "fig = plt.figure(figsize=(3.5, 3), tight_layout=True)\n",
    "plt.plot(xs, GWs_avg, label=r\"$\\mathsf{GW}$\", linewidth=1)\n",
    "plt.plot(xs, GWs_flb_avg, label=r\"$\\mathsf{GW}_{flb}$\", linewidth=1)\n",
    "plt.plot(xs, GWs_slb_avg, label=r\"$\\mathsf{GW}_{slb}$\", linewidth=1)\n",
    "plt.plot(xs, GWs_tlb_avg, label=r\"$\\mathsf{GW}_{tlb}$\", linewidth=1)\n",
    "# plt.legend(loc=\"lower left\", \n",
    "#         #     ncol=4,\n",
    "#         #    prop={'size': 12},\n",
    "#         #    bbox_to_anchor=(0., 1.02, 1., .2),\n",
    "#         #    mode=\"expand\"\n",
    "#            )\n",
    "plt.legend(loc=\"lower right\")\n",
    "plt.ylim(0, 32)\n",
    "plt.xlabel(r\"$\\delta_g$\")\n",
    "# plt.savefig(\"gap_gw_flb_slb_tlb.pdf\")\n",
    "\n",
    "fig = plt.figure(figsize=(3.5, 3), tight_layout=True)\n",
    "plt.plot(xs, OGWs_ub_avg, label=r\"$\\mathsf{OGW}_{ub}$\", linewidth=1)\n",
    "plt.plot(xs, OGWs_lb_avg, label=r\"$\\mathsf{OGW}_{lb}$\", linewidth=1)\n",
    "# plt.legend(loc=\"lower left\", \n",
    "# # ncol=2,\n",
    "# #            prop={'size': 12},\n",
    "# #            bbox_to_anchor=(0., 1.02, 1., .2),\n",
    "# #            mode=\"expand\"\n",
    "#            )\n",
    "plt.legend(loc=\"lower right\")\n",
    "plt.ylim(0, 32)\n",
    "plt.xlabel(r\"$\\delta_g$\")\n",
    "# plt.savefig(\"gap_ogw_ub_lb.pdf\")\n",
    "# plt.show()\n"
   ]
  },
  {
   "cell_type": "code",
   "execution_count": null,
   "metadata": {},
   "outputs": [],
   "source": []
  }
 ],
 "metadata": {
  "interpreter": {
   "hash": "85e7174627291131be3b91f62098ed26abc73d0f3523a6debbb1d010e9c02452"
  },
  "kernelspec": {
   "display_name": "Python 3.7.11 ('ogw')",
   "language": "python",
   "name": "python3"
  },
  "language_info": {
   "codemirror_mode": {
    "name": "ipython",
    "version": 3
   },
   "file_extension": ".py",
   "mimetype": "text/x-python",
   "name": "python",
   "nbconvert_exporter": "python",
   "pygments_lexer": "ipython3",
   "version": "3.7.13"
  },
  "orig_nbformat": 4
 },
 "nbformat": 4,
 "nbformat_minor": 2
}
