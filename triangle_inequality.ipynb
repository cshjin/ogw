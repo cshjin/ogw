{
 "cells": [
  {
   "cell_type": "markdown",
   "metadata": {},
   "source": [
    "# Check triangle inequality"
   ]
  },
  {
   "cell_type": "code",
   "execution_count": 1,
   "metadata": {},
   "outputs": [
    {
     "name": "stderr",
     "output_type": "stream",
     "text": [
      "/home/hjin/miniconda3/envs/ogw_dev/lib/python3.7/site-packages/tqdm/auto.py:22: TqdmWarning: IProgress not found. Please update jupyter and ipywidgets. See https://ipywidgets.readthedocs.io/en/stable/user_install.html\n",
      "  from .autonotebook import tqdm as notebook_tqdm\n"
     ]
    }
   ],
   "source": [
    "import os.path as osp\n",
    "from collections import defaultdict\n",
    "\n",
    "import matplotlib.pyplot as plt\n",
    "import networkx as nx\n",
    "import numpy as np\n",
    "from ot.gromov import gromov_wasserstein\n",
    "from torch_geometric.datasets import TUDataset\n",
    "from tqdm import tqdm\n",
    "\n",
    "from ogw.gromov_prox import projection_matrix, quad_solver\n",
    "from ogw.gw_lb import flb, slb, tlb\n",
    "from ogw.ogw_dist import eval_ogw_lb, ogw_lb, ogw_ub\n",
    "from ogw.utils import random_perturb\n",
    "from scipy.linalg import eigvalsh, svdvals\n",
    "\n",
    "from time import time\n",
    "np.set_printoptions(3)\n",
    "np.random.seed(0)\n"
   ]
  },
  {
   "cell_type": "markdown",
   "metadata": {},
   "source": [
    "## Synthetic dataset\n",
    "* Generate 15 Erdos-Renyi random graph with n=20, p=0.6\n",
    "* No disconnected graphs"
   ]
  },
  {
   "cell_type": "code",
   "execution_count": 2,
   "metadata": {},
   "outputs": [],
   "source": [
    "Cs = []\n",
    "n = 15\n",
    "for _ in range(n):\n",
    "    G = nx.erdos_renyi_graph(20, 0.6)\n",
    "    C = nx.floyd_warshall_numpy(G)\n",
    "    Cs.append(C)\n"
   ]
  },
  {
   "cell_type": "code",
   "execution_count": 3,
   "metadata": {},
   "outputs": [],
   "source": [
    "dist = np.zeros((n, n))\n",
    "for i in range(n):\n",
    "    for j in range(i+1, n):\n",
    "        dist[i, j] = ogw_lb(Cs[i], Cs[j])\n",
    "dist += dist.T\n",
    "\n"
   ]
  },
  {
   "cell_type": "code",
   "execution_count": 4,
   "metadata": {},
   "outputs": [
    {
     "name": "stdout",
     "output_type": "stream",
     "text": [
      "0.00 % of tuples (i, j, k) violate the triangle inequality under ogw_lb\n"
     ]
    }
   ],
   "source": [
    "dist_sqrt = np.power(dist, 0.5)\n",
    "counter = 0\n",
    "for i in range(n):\n",
    "    for j in range(i+1, n):\n",
    "        for k in range(j+1, n):\n",
    "            if dist_sqrt[i, j] > dist_sqrt[i, k] + dist_sqrt[k, j]:\n",
    "                counter += 1\n",
    "\n",
    "total = n * (n - 1) * (n - 2) / 6\n",
    "print(f\"{counter/total * 100:.2f} % of tuples (i, j, k) violate the triangle inequality under ogw_lb\")\n",
    "\n"
   ]
  },
  {
   "cell_type": "code",
   "execution_count": 5,
   "metadata": {},
   "outputs": [],
   "source": [
    "dist = np.zeros((n, n))\n",
    "p = np.ones(20) / 20\n",
    "for i in range(n):\n",
    "    for j in range(i + 1, n):\n",
    "        _, gw_log = gromov_wasserstein(Cs[i], Cs[j], p, p, \"square_loss\", log=True)\n",
    "        dist[i, j] = gw_log['gw_dist']\n",
    "dist += dist.T\n"
   ]
  },
  {
   "cell_type": "code",
   "execution_count": 6,
   "metadata": {},
   "outputs": [
    {
     "name": "stdout",
     "output_type": "stream",
     "text": [
      "0.00 % of tuples (i, j, k) violate the triangle inequality under gw\n"
     ]
    }
   ],
   "source": [
    "dist_sqrt = np.power(dist, 0.5)\n",
    "counter = 0\n",
    "for i in range(n):\n",
    "    for j in range(i + 1, n):\n",
    "        for k in range(j + 1, n):\n",
    "            if dist_sqrt[i, j] > dist_sqrt[i, k] + dist_sqrt[k, j]:\n",
    "                counter += 1\n",
    "\n",
    "total = n * (n - 1) * (n - 2) / 6\n",
    "print(f\"{counter/total * 100:.2f} % of tuples (i, j, k) violate the triangle inequality under gw\")\n"
   ]
  },
  {
   "cell_type": "markdown",
   "metadata": {},
   "source": [
    "## Real dataset"
   ]
  },
  {
   "cell_type": "code",
   "execution_count": 7,
   "metadata": {},
   "outputs": [],
   "source": [
    "from ogw.utils import load_pyg_data\n",
    "import logging\n",
    "import os\n",
    "from joblib.parallel import Parallel, delayed\n",
    "import pickle\n",
    "\n",
    "ROOT = osp.join(osp.expanduser(\"~\"), 'tmp', 'data', \"TUDataset\")\n",
    "dsname = \"MUTAG\"\n",
    "\n",
    "# prepare dataset\n",
    "Gs, ys = load_pyg_data(dsname)\n",
    "Cs = [nx.floyd_warshall_numpy(g) for g in Gs]\n",
    "Ns = [C.shape[0] for C in Cs]\n",
    "ps = [np.ones(n) / n for n in Ns]\n",
    "\n",
    "SAVED_PATH = osp.join(ROOT, dsname, \"saved\")\n",
    "if not osp.isdir(SAVED_PATH):\n",
    "    logging.info(\"creating folder\")\n",
    "    os.makedirs(SAVED_PATH)\n",
    "\n",
    "N = len(Gs)\n"
   ]
  },
  {
   "cell_type": "code",
   "execution_count": 8,
   "metadata": {},
   "outputs": [],
   "source": [
    "def calc_D_OGW_lb(i, j, D):\n",
    "    D[i, j] = ogw_lb(Cs[i], Cs[j])\n",
    "\n",
    "fn_mm = osp.join(ROOT, dsname, \"D_OGW_lb\")\n",
    "D_OGW_lb = np.memmap(fn_mm, mode=\"w+\", shape=(N, N), dtype=float)\n",
    "\n",
    "logging.info(f\"calcualte OGW_lb\")\n",
    "Parallel(n_jobs=-1, backend=\"multiprocessing\")(\n",
    "    delayed(calc_D_OGW_lb)(i, j, D_OGW_lb) for i in range(N) for j in range(i + 1, N))\n",
    "D_OGW_lb += D_OGW_lb.T\n",
    "\n",
    "pickle.dump(D_OGW_lb, open(osp.join(SAVED_PATH, \"D_OGW_lb.pkl\"), \"wb\"))\n"
   ]
  },
  {
   "cell_type": "code",
   "execution_count": 9,
   "metadata": {},
   "outputs": [
    {
     "name": "stdout",
     "output_type": "stream",
     "text": [
      "min value from pairwise dissimilarities -1.42e-14\n"
     ]
    }
   ],
   "source": [
    "# Check non-negativity\n",
    "print(f\"min value from pairwise dissimilarities {D_OGW_lb.min():.2e}\")"
   ]
  },
  {
   "cell_type": "code",
   "execution_count": 10,
   "metadata": {},
   "outputs": [
    {
     "name": "stdout",
     "output_type": "stream",
     "text": [
      "0.00 % of tuples (i, j, k) violate the triangle inequality\n"
     ]
    }
   ],
   "source": [
    "# fix some numerical issue. e.g., -1 e-15\n",
    "D_OGW_lb = np.clip(D_OGW_lb, 0, np.inf)\n",
    "\n",
    "# compare in square root, not in ||.||^2\n",
    "D_OGW_lb_sqrt = np.power(D_OGW_lb, 0.5)\n",
    "\n",
    "counter = 0\n",
    "for i in range(N):\n",
    "    for j in range(i+1, N):\n",
    "        for k in range(j+1, N):\n",
    "            if D_OGW_lb_sqrt[i, j] - D_OGW_lb_sqrt[i, k] - D_OGW_lb_sqrt[k, j] > 1e-13:\n",
    "                print(\"violate triangle inequality\", i, j, k)\n",
    "                counter += 1\n",
    "\n",
    "total = N*(N-1) * (N-2)/6\n",
    "print(f\"{counter/total * 100:.2f} % of tuples (i, j, k) violate the triangle inequality\")"
   ]
  },
  {
   "cell_type": "code",
   "execution_count": 11,
   "metadata": {},
   "outputs": [
    {
     "data": {
      "text/plain": [
       "array([[0.   , 1.046, 1.046, ..., 0.917, 0.314, 0.1  ],\n",
       "       [1.046, 0.   , 0.   , ..., 0.086, 1.388, 0.511],\n",
       "       [1.046, 0.   , 0.   , ..., 0.086, 1.388, 0.511],\n",
       "       ...,\n",
       "       [0.917, 0.086, 0.086, ..., 0.   , 1.53 , 0.447],\n",
       "       [0.314, 1.388, 1.388, ..., 1.53 , 0.   , 0.401],\n",
       "       [0.1  , 0.511, 0.511, ..., 0.447, 0.401, 0.   ]])"
      ]
     },
     "execution_count": 11,
     "metadata": {},
     "output_type": "execute_result"
    }
   ],
   "source": [
    "D_OGW_lb"
   ]
  },
  {
   "cell_type": "code",
   "execution_count": 12,
   "metadata": {},
   "outputs": [
    {
     "name": "stderr",
     "output_type": "stream",
     "text": [
      "/home/hjin/miniconda3/envs/ogw_dev/lib/python3.7/site-packages/ot/optim.py:312: RuntimeWarning: divide by zero encountered in double_scalars\n",
      "  relative_delta_fval = abs_delta_fval / abs(f_val)\n",
      "/home/hjin/miniconda3/envs/ogw_dev/lib/python3.7/site-packages/ot/optim.py:312: RuntimeWarning: invalid value encountered in double_scalars\n",
      "  relative_delta_fval = abs_delta_fval / abs(f_val)\n",
      "/home/hjin/miniconda3/envs/ogw_dev/lib/python3.7/site-packages/ot/optim.py:312: RuntimeWarning: divide by zero encountered in double_scalars\n",
      "  relative_delta_fval = abs_delta_fval / abs(f_val)\n",
      "/home/hjin/miniconda3/envs/ogw_dev/lib/python3.7/site-packages/ot/optim.py:312: RuntimeWarning: invalid value encountered in double_scalars\n",
      "  relative_delta_fval = abs_delta_fval / abs(f_val)\n",
      "/home/hjin/miniconda3/envs/ogw_dev/lib/python3.7/site-packages/ot/optim.py:312: RuntimeWarning: divide by zero encountered in double_scalars\n",
      "  relative_delta_fval = abs_delta_fval / abs(f_val)\n",
      "/home/hjin/miniconda3/envs/ogw_dev/lib/python3.7/site-packages/ot/optim.py:312: RuntimeWarning: invalid value encountered in double_scalars\n",
      "  relative_delta_fval = abs_delta_fval / abs(f_val)\n",
      "/home/hjin/miniconda3/envs/ogw_dev/lib/python3.7/site-packages/ot/optim.py:312: RuntimeWarning: divide by zero encountered in double_scalars\n",
      "  relative_delta_fval = abs_delta_fval / abs(f_val)\n",
      "/home/hjin/miniconda3/envs/ogw_dev/lib/python3.7/site-packages/ot/optim.py:312: RuntimeWarning: invalid value encountered in double_scalars\n",
      "  relative_delta_fval = abs_delta_fval / abs(f_val)\n",
      "/home/hjin/miniconda3/envs/ogw_dev/lib/python3.7/site-packages/ot/optim.py:312: RuntimeWarning: divide by zero encountered in double_scalars\n",
      "  relative_delta_fval = abs_delta_fval / abs(f_val)\n",
      "/home/hjin/miniconda3/envs/ogw_dev/lib/python3.7/site-packages/ot/optim.py:312: RuntimeWarning: invalid value encountered in double_scalars\n",
      "  relative_delta_fval = abs_delta_fval / abs(f_val)\n",
      "/home/hjin/miniconda3/envs/ogw_dev/lib/python3.7/site-packages/ot/optim.py:312: RuntimeWarning: divide by zero encountered in double_scalars\n",
      "  relative_delta_fval = abs_delta_fval / abs(f_val)\n",
      "/home/hjin/miniconda3/envs/ogw_dev/lib/python3.7/site-packages/ot/optim.py:312: RuntimeWarning: invalid value encountered in double_scalars\n",
      "  relative_delta_fval = abs_delta_fval / abs(f_val)\n",
      "/home/hjin/miniconda3/envs/ogw_dev/lib/python3.7/site-packages/ot/optim.py:312: RuntimeWarning: divide by zero encountered in double_scalars\n",
      "  relative_delta_fval = abs_delta_fval / abs(f_val)\n",
      "/home/hjin/miniconda3/envs/ogw_dev/lib/python3.7/site-packages/ot/optim.py:312: RuntimeWarning: invalid value encountered in double_scalars\n",
      "  relative_delta_fval = abs_delta_fval / abs(f_val)\n"
     ]
    }
   ],
   "source": [
    "def calc_D_GW(i, j, D):\n",
    "    T, gw_log = gromov_wasserstein(Cs[i], Cs[j], ps[i], ps[j], loss_fun=\"square_loss\", log=True)\n",
    "    D[i, j] = gw_log['gw_dist']\n",
    "\n",
    "\n",
    "# GW\n",
    "fn_mm = osp.join(ROOT, dsname, \"D_GW\")\n",
    "D_GW = np.memmap(fn_mm, mode=\"w+\", shape=(N, N), dtype=float)\n",
    "\n",
    "logging.info(f\"calcualte GW\")\n",
    "Parallel(n_jobs=-1, backend=\"multiprocessing\")(\n",
    "    delayed(calc_D_GW)(i, j, D_GW) for i in range(N) for j in range(i + 1, N))\n",
    "D_GW += D_GW.T\n",
    "\n",
    "pickle.dump(D_GW, open(osp.join(SAVED_PATH, \"D_GW.pkl\"), \"wb\"))\n"
   ]
  },
  {
   "cell_type": "code",
   "execution_count": 13,
   "metadata": {},
   "outputs": [
    {
     "name": "stdout",
     "output_type": "stream",
     "text": [
      "min value from pairwise dissimilarities -3.11e-15\n"
     ]
    }
   ],
   "source": [
    "print(f\"min value from pairwise dissimilarities {D_GW.min():.2e}\")"
   ]
  },
  {
   "cell_type": "code",
   "execution_count": 14,
   "metadata": {},
   "outputs": [
    {
     "name": "stdout",
     "output_type": "stream",
     "text": [
      "0.43 % of tuples (i, j, k) violate the triangle inequality\n"
     ]
    }
   ],
   "source": [
    "D_GW = np.clip(D_GW, 0, np.inf)\n",
    "D_GW_sqrt = np.power(D_GW, 0.5)\n",
    "\n",
    "counter = 0\n",
    "for i in range(N):\n",
    "    for j in range(i + 1, N):\n",
    "        for k in range(j + 1, N):\n",
    "            if D_GW_sqrt[i, j] - D_GW_sqrt[i, k] - D_GW_sqrt[k, j] > 1e-13:\n",
    "                # print(\"violate triangle inequality\", i, j, k)\n",
    "                counter += 1\n",
    "\n",
    "\n",
    "total = N * (N - 1) * (N - 2) / 6\n",
    "print(f\"{counter/total * 100:.2f} % of tuples (i, j, k) violate the triangle inequality\")\n"
   ]
  },
  {
   "cell_type": "markdown",
   "metadata": {},
   "source": [
    "## Check with GW_flb"
   ]
  },
  {
   "cell_type": "code",
   "execution_count": 15,
   "metadata": {},
   "outputs": [],
   "source": [
    "def calc_D_GW_lb(i, j, D):\n",
    "    D[i, j] = flb(Cs[i], Cs[j])\n",
    "    \n",
    "# GW_lb\n",
    "fn_mm = osp.join(ROOT, dsname, \"D_GW_lb\")\n",
    "D_GW_lb = np.memmap(fn_mm, mode=\"w+\", shape=(N, N), dtype=float)\n",
    "\n",
    "logging.info(f\"calcualte GW_lb\")\n",
    "Parallel(n_jobs=-1, backend=\"multiprocessing\")(\n",
    "    delayed(calc_D_GW_lb)(i, j, D_GW_lb) for i in range(N) for j in range(i + 1, N))\n",
    "D_GW_lb += D_GW_lb.T\n",
    "\n",
    "pickle.dump(D_GW_lb, open(osp.join(SAVED_PATH, \"D_GW_lb.pkl\"), \"wb\"))"
   ]
  },
  {
   "cell_type": "code",
   "execution_count": 16,
   "metadata": {},
   "outputs": [
    {
     "name": "stdout",
     "output_type": "stream",
     "text": [
      "0.00 % of tuples (i, j, k) violate the triangle inequality\n"
     ]
    }
   ],
   "source": [
    "D_GW_lb = np.clip(D_GW_lb, 0, np.inf)\n",
    "D_GW_lb_sqrt = np.power(D_GW_lb, 0.5)\n",
    "\n",
    "counter = 0\n",
    "for i in range(N):\n",
    "    for j in range(i + 1, N):\n",
    "        for k in range(j + 1, N):\n",
    "            if D_GW_lb_sqrt[i, j] - D_GW_lb_sqrt[i, k] - D_GW_lb_sqrt[k, j] > 1e-13:\n",
    "                # print(\"violate triangle inequality\", i, j, k)\n",
    "                counter += 1\n",
    "\n",
    "\n",
    "total = N * (N - 1) * (N - 2) / 6\n",
    "print(f\"{counter/total * 100:.2f} % of tuples (i, j, k) violate the triangle inequality\")\n"
   ]
  },
  {
   "cell_type": "code",
   "execution_count": 17,
   "metadata": {},
   "outputs": [],
   "source": [
    "def calc_D_OGW_ub(i, j, D):\n",
    "    D[i, j] = ogw_ub(Cs[i], Cs[j])\n",
    "    \n",
    "# OGW_ub\n",
    "fn_mm = osp.join(ROOT, dsname, \"D_OGW_ub\")\n",
    "D_OGW_ub = np.memmap(fn_mm, mode=\"w+\", shape=(N, N), dtype=float)\n",
    "\n",
    "logging.info(f\"calcualte OGW_ub\")\n",
    "Parallel(n_jobs=-1, backend=\"multiprocessing\")(\n",
    "    delayed(calc_D_OGW_ub)(i, j, D_OGW_ub) for i in range(N) for j in range(i + 1, N))\n",
    "D_OGW_ub += D_OGW_ub.T\n",
    "\n",
    "pickle.dump(D_OGW_ub, open(osp.join(SAVED_PATH, \"D_OGW_ub.pkl\"), \"wb\"))\n"
   ]
  },
  {
   "cell_type": "code",
   "execution_count": 18,
   "metadata": {},
   "outputs": [
    {
     "name": "stdout",
     "output_type": "stream",
     "text": [
      "0.08 % of tuples (i, j, k) violate the triangle inequality\n"
     ]
    }
   ],
   "source": [
    "# fix some numerical issue. e.g., -1 e-15\n",
    "D_OGW_ub = np.clip(D_OGW_ub, 0, np.inf)\n",
    "\n",
    "# compare in square root, not in ||.||^2\n",
    "D_OGW_ub_sqrt = np.power(D_OGW_ub, 0.5)\n",
    "\n",
    "counter = 0\n",
    "for i in range(N):\n",
    "    for j in range(i + 1, N):\n",
    "        for k in range(j + 1, N):\n",
    "            if D_OGW_ub_sqrt[i, j] - D_OGW_ub_sqrt[i, k] - D_OGW_ub_sqrt[k, j] > 1e-13:\n",
    "                counter += 1\n",
    "\n",
    "total = N * (N - 1) * (N - 2) / 6\n",
    "print(f\"{counter/total * 100:.2f} % of tuples (i, j, k) violate the triangle inequality\")\n"
   ]
  },
  {
   "cell_type": "code",
   "execution_count": null,
   "metadata": {},
   "outputs": [],
   "source": []
  }
 ],
 "metadata": {
  "interpreter": {
   "hash": "142dcc6850e51282f1aaa76ca5fc5da36a039b0aec4efdc9d52c719cbbf74090"
  },
  "kernelspec": {
   "display_name": "Python 3.7.11 ('ogw')",
   "language": "python",
   "name": "python3"
  },
  "language_info": {
   "codemirror_mode": {
    "name": "ipython",
    "version": 3
   },
   "file_extension": ".py",
   "mimetype": "text/x-python",
   "name": "python",
   "nbconvert_exporter": "python",
   "pygments_lexer": "ipython3",
   "version": "3.7.13"
  },
  "orig_nbformat": 4
 },
 "nbformat": 4,
 "nbformat_minor": 2
}
