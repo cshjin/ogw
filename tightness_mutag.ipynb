{
 "cells": [
  {
   "cell_type": "markdown",
   "metadata": {},
   "source": [
    "# Check tightness in real data"
   ]
  },
  {
   "cell_type": "code",
   "execution_count": 1,
   "metadata": {},
   "outputs": [
    {
     "name": "stderr",
     "output_type": "stream",
     "text": [
      "/home/hjin/miniconda3/envs/ogw_dev/lib/python3.7/site-packages/tqdm/auto.py:22: TqdmWarning: IProgress not found. Please update jupyter and ipywidgets. See https://ipywidgets.readthedocs.io/en/stable/user_install.html\n",
      "  from .autonotebook import tqdm as notebook_tqdm\n"
     ]
    }
   ],
   "source": [
    "import logging\n",
    "import os\n",
    "import os.path as osp\n",
    "import pickle\n",
    "\n",
    "import networkx as nx\n",
    "import numpy as np\n",
    "from ogw.gw_lb import tlb\n",
    "from ogw.ogw_dist import ogw_lb, ogw_ub, ogw_o\n",
    "from ogw.utils import load_pyg_data\n",
    "from joblib.parallel import Parallel, delayed\n",
    "from ot.gromov import gromov_wasserstein\n",
    "from torch_geometric.datasets import TUDataset\n",
    "from tqdm import tqdm\n",
    "import seaborn as sns\n",
    "import matplotlib.pyplot as plt\n",
    "logging.basicConfig(format='%(asctime)s - %(message)s ', level=logging.INFO)"
   ]
  },
  {
   "cell_type": "code",
   "execution_count": 2,
   "metadata": {},
   "outputs": [],
   "source": [
    "# replace your ROOT path\n",
    "ROOT = osp.join(osp.expanduser(\"~\"), 'tmp', 'data', \"TUDataset\")\n",
    "dsname = \"MUTAG\"\n",
    "\n",
    "# prepare dataset\n",
    "Gs, ys = load_pyg_data(dsname)\n",
    "Cs = [np.array(nx.floyd_warshall_numpy(g)) for g in Gs]\n",
    "Ns = [C.shape[0] for C in Cs]\n",
    "ps = [np.ones(n) / n for n in Ns]\n",
    "\n",
    "SAVED_PATH = osp.join(ROOT, dsname, \"saved\")\n",
    "if not osp.isdir(SAVED_PATH):\n",
    "    logging.info(\"creating folder\")\n",
    "    os.makedirs(SAVED_PATH)\n",
    "\n",
    "N = len(Gs)\n",
    "\n",
    "\n"
   ]
  },
  {
   "cell_type": "code",
   "execution_count": 3,
   "metadata": {},
   "outputs": [],
   "source": [
    "# calculate pairwise distance in parallel\n",
    "\n",
    "def calc_D_GW(i, j, D):\n",
    "    T, gw_log = gromov_wasserstein(Cs[i], Cs[j], ps[i], ps[j], loss_fun=\"square_loss\", log=True)\n",
    "    D[i, j] = gw_log['gw_dist']\n",
    "\n",
    "\n",
    "def calc_D_GW_tlb(i, j, D):\n",
    "    D[i, j] = tlb(Cs[i], Cs[j])\n",
    "\n",
    "\n",
    "def calc_D_OGW_lb(i, j, D):\n",
    "    D[i, j] = ogw_lb(Cs[i], Cs[j])\n",
    "\n",
    "\n",
    "def calc_D_OGW_ub(i, j, D):\n",
    "    D[i, j] = ogw_ub(Cs[i], Cs[j])\n",
    "\n",
    "def calc_D_OGW_o(i, j, D):\n",
    "    D[i, j] = ogw_o(Cs[i], Cs[j])\n",
    "\n",
    "# GW\n",
    "path_to_file = osp.join(SAVED_PATH, \"D_GW.pkl\")\n",
    "if osp.exists(path_to_file):\n",
    "    D_GW = pickle.load(open(path_to_file, \"rb\"))\n",
    "else:\n",
    "    fn_mm = osp.join(ROOT, dsname, \"D_GW\")\n",
    "    D_GW = np.memmap(fn_mm, mode=\"w+\", shape=(N, N), dtype=float)\n",
    "\n",
    "    logging.info(f\"calcualte GW\")\n",
    "    Parallel(n_jobs=-1, backend=\"multiprocessing\")(\n",
    "        delayed(calc_D_GW)(i, j, D_GW) for i in range(N) for j in range(i + 1, N))\n",
    "    D_GW += D_GW.T\n",
    "\n",
    "    pickle.dump(D_GW, open(osp.join(SAVED_PATH, \"D_GW.pkl\"), \"wb\"))\n",
    "\n",
    "# GW_tlb\n",
    "path_to_file = osp.join(SAVED_PATH, \"D_GW_tlb.pkl\")\n",
    "if osp.exists(path_to_file):\n",
    "    D_GW_tlb = pickle.load(open(path_to_file, \"rb\"))\n",
    "else:\n",
    "    fn_mm = osp.join(ROOT, dsname, \"D_GW_tlb\")\n",
    "    D_GW_tlb = np.memmap(fn_mm, mode=\"w+\", shape=(N, N), dtype=float)\n",
    "\n",
    "    logging.info(f\"calcualte GW\")\n",
    "    Parallel(n_jobs=-1, backend=\"multiprocessing\")(\n",
    "        delayed(calc_D_GW_tlb)(i, j, D_GW_tlb) for i in range(N) for j in range(i + 1, N))\n",
    "    D_GW_tlb += D_GW_tlb.T\n",
    "\n",
    "    pickle.dump(D_GW_tlb, open(osp.join(SAVED_PATH, \"D_GW_tlb.pkl\"), \"wb\"))\n",
    "\n",
    "\n",
    "# OGW_lb\n",
    "path_to_file = osp.join(SAVED_PATH, \"D_OGW_lb.pkl\")\n",
    "if osp.exists(path_to_file):\n",
    "    D_OGW_lb = pickle.load(open(path_to_file, \"rb\"))\n",
    "else:\n",
    "    fn_mm = osp.join(ROOT, dsname, \"D_OGW_lb\")\n",
    "    D_OGW_lb = np.memmap(fn_mm, mode=\"w+\", shape=(N, N), dtype=float)\n",
    "\n",
    "    logging.info(f\"calcualte GW\")\n",
    "    Parallel(n_jobs=-1, backend=\"multiprocessing\")(\n",
    "        delayed(calc_D_OGW_lb)(i, j, D_OGW_lb) for i in range(N) for j in range(i + 1, N))\n",
    "    D_OGW_lb += D_OGW_lb.T\n",
    "\n",
    "    pickle.dump(D_OGW_lb, open(osp.join(SAVED_PATH, \"D_OGW_lb.pkl\"), \"wb\"))\n",
    "\n",
    "# OGW_ub\n",
    "path_to_file = osp.join(SAVED_PATH, \"D_OGW_ub.pkl\")\n",
    "if osp.exists(path_to_file):\n",
    "    D_OGW_ub = pickle.load(open(path_to_file, \"rb\"))\n",
    "else:\n",
    "    fn_mm = osp.join(ROOT, dsname, \"D_OGW_ub\")\n",
    "    D_OGW_ub = np.memmap(fn_mm, mode=\"w+\", shape=(N, N), dtype=float)\n",
    "\n",
    "    logging.info(f\"calcualte GW\")\n",
    "    Parallel(n_jobs=-1, backend=\"multiprocessing\")(\n",
    "        delayed(calc_D_OGW_ub)(i, j, D_OGW_ub) for i in range(N) for j in range(i + 1, N))\n",
    "    D_OGW_ub += D_OGW_ub.T\n",
    "\n",
    "    pickle.dump(D_OGW_ub, open(osp.join(SAVED_PATH, \"D_OGW_ub.pkl\"), \"wb\"))\n",
    "\n",
    "\n",
    "# OGW_o\n",
    "path_to_file = osp.join(SAVED_PATH, \"D_OGW_o.pkl\")\n",
    "if osp.exists(path_to_file):\n",
    "    D_OGW_o = pickle.load(open(path_to_file, \"rb\"))\n",
    "else:\n",
    "    fn_mm = osp.join(ROOT, dsname, \"D_OGW_o\")\n",
    "    D_OGW_o = np.memmap(fn_mm, mode=\"w+\", shape=(N, N), dtype=float)\n",
    "\n",
    "    logging.info(f\"calcualte GW\")\n",
    "    Parallel(n_jobs=-1, backend=\"multiprocessing\")(\n",
    "        delayed(calc_D_OGW_o)(i, j, D_OGW_o) for i in range(N) for j in range(i + 1, N))\n",
    "    D_OGW_o += D_OGW_o.T\n",
    "\n",
    "    pickle.dump(D_OGW_o, open(osp.join(SAVED_PATH, \"D_OGW_o.pkl\"), \"wb\"))\n"
   ]
  },
  {
   "cell_type": "code",
   "execution_count": 4,
   "metadata": {},
   "outputs": [
    {
     "data": {
      "text/plain": [
       "Text(0, 0.5, 'Density')"
      ]
     },
     "execution_count": 4,
     "metadata": {},
     "output_type": "execute_result"
    },
    {
     "data": {
      "image/png": "[encoded data removed]",
      "text/plain": [
       "<Figure size 252x216 with 1 Axes>"
      ]
     },
     "metadata": {
      "needs_background": "light"
     },
     "output_type": "display_data"
    }
   ],
   "source": [
    "# plot\n",
    "GW_diff = np.abs(np.triu(D_GW - D_GW_tlb, k=1))\n",
    "OGW_diff = np.abs(np.triu(D_OGW_ub - D_OGW_lb, k=1))\n",
    "# OGW_diff2 = np.abs(np.triu(D_OGW_ub - D_OGW_o, k=1))\n",
    "fig = plt.figure(figsize=(3.5, 3), tight_layout=True)\n",
    "sns.kdeplot(GW_diff[GW_diff > 1e-4].flatten(), shade=True, color=\"r\", label=\"GW\", log_scale=True)\n",
    "sns.kdeplot(OGW_diff[OGW_diff > 1e-4].flatten(), shade=True, color=\"b\", label=\"OGW\", log_scale=True)\n",
    "# sns.kdeplot(OGW_diff2[OGW_diff2 > 1e-4].flatten(), shade=True, color=\"g\", label=\"OGW\", log_scale=True)\n",
    "# plt.legend(loc=\"lower left\",\n",
    "#            ncol=2,\n",
    "#            prop={'size': 7},\n",
    "#            bbox_to_anchor=(0., 1.02, 1., .2),\n",
    "#            mode=\"expand\")\n",
    "plt.legend(loc=\"upper left\")\n",
    "plt.xlabel(\"Gap\")\n",
    "plt.ylabel(\"Density\")\n",
    "# plt.savefig(\"gap_MUTAG.pdf\")"
   ]
  },
  {
   "cell_type": "code",
   "execution_count": null,
   "metadata": {},
   "outputs": [],
   "source": []
  }
 ],
 "metadata": {
  "interpreter": {
   "hash": "85e7174627291131be3b91f62098ed26abc73d0f3523a6debbb1d010e9c02452"
  },
  "kernelspec": {
   "display_name": "Python 3.7.11 ('ogw')",
   "language": "python",
   "name": "python3"
  },
  "language_info": {
   "codemirror_mode": {
    "name": "ipython",
    "version": 3
   },
   "file_extension": ".py",
   "mimetype": "text/x-python",
   "name": "python",
   "nbconvert_exporter": "python",
   "pygments_lexer": "ipython3",
   "version": "3.7.11"
  },
  "orig_nbformat": 4
 },
 "nbformat": 4,
 "nbformat_minor": 2
}
