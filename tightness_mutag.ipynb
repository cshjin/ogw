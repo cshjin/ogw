{
 "cells": [
  {
   "cell_type": "markdown",
   "metadata": {},
   "source": [
    "# Check tightness in real data"
   ]
  },
  {
   "cell_type": "code",
   "execution_count": 1,
   "metadata": {},
   "outputs": [],
   "source": [
    "import logging\n",
    "import os\n",
    "import os.path as osp\n",
    "import pickle\n",
    "from matplotlib.pyplot import xscale\n",
    "\n",
    "import networkx as nx\n",
    "import numpy as np\n",
    "from ogw.gromov_prox import projection_matrix\n",
    "from ogw.gw_lb import tlb\n",
    "from ogw.gwtil import eval_gwtil_ub, gwtil_lb, gwtil_ub\n",
    "from ogw.utils import load_pyg_data\n",
    "from joblib.parallel import Parallel, delayed\n",
    "from ot.gromov import gromov_wasserstein\n",
    "from torch_geometric.datasets import TUDataset\n",
    "from tqdm import tqdm\n",
    "import seaborn as sns\n",
    "import matplotlib.pyplot as plt\n",
    "logging.basicConfig(format='%(asctime)s - %(message)s ', level=logging.INFO)"
   ]
  },
  {
   "cell_type": "code",
   "execution_count": 2,
   "metadata": {},
   "outputs": [],
   "source": [
    "# replace your ROOT path\n",
    "ROOT = osp.join(osp.expanduser(\"~\"), 'tmp', 'data', \"TUDataset\")\n",
    "dsname = \"MUTAG\"\n",
    "\n",
    "# prepare dataset\n",
    "Gs, ys = load_pyg_data(dsname)\n",
    "Cs = [nx.floyd_warshall_numpy(g) for g in Gs]\n",
    "Ns = [C.shape[0] for C in Cs]\n",
    "ps = [np.ones(n) / n for n in Ns]\n",
    "\n",
    "SAVED_PATH = osp.join(ROOT, dsname, \"saved\")\n",
    "if not osp.isdir(SAVED_PATH):\n",
    "    logging.info(\"creating folder\")\n",
    "    os.makedirs(SAVED_PATH)\n",
    "\n",
    "N = len(Gs)\n",
    "\n",
    "\n"
   ]
  },
  {
   "cell_type": "code",
   "execution_count": 3,
   "metadata": {},
   "outputs": [
    {
     "name": "stderr",
     "output_type": "stream",
     "text": [
      "2022-02-28 00:52:27,531 - calcualte GW \n",
      "/home/hjin/miniconda3/envs/ogw/lib/python3.7/site-packages/ot/optim.py:305: RuntimeWarning: divide by zero encountered in double_scalars\n",
      "  relative_delta_fval = abs_delta_fval / abs(f_val)\n",
      "/home/hjin/miniconda3/envs/ogw/lib/python3.7/site-packages/ot/optim.py:305: RuntimeWarning: invalid value encountered in double_scalars\n",
      "  relative_delta_fval = abs_delta_fval / abs(f_val)\n",
      "/home/hjin/miniconda3/envs/ogw/lib/python3.7/site-packages/ot/optim.py:305: RuntimeWarning: divide by zero encountered in double_scalars\n",
      "  relative_delta_fval = abs_delta_fval / abs(f_val)\n",
      "/home/hjin/miniconda3/envs/ogw/lib/python3.7/site-packages/ot/optim.py:305: RuntimeWarning: invalid value encountered in double_scalars\n",
      "  relative_delta_fval = abs_delta_fval / abs(f_val)\n",
      "/home/hjin/miniconda3/envs/ogw/lib/python3.7/site-packages/ot/optim.py:305: RuntimeWarning: divide by zero encountered in double_scalars\n",
      "  relative_delta_fval = abs_delta_fval / abs(f_val)\n",
      "/home/hjin/miniconda3/envs/ogw/lib/python3.7/site-packages/ot/optim.py:305: RuntimeWarning: invalid value encountered in double_scalars\n",
      "  relative_delta_fval = abs_delta_fval / abs(f_val)\n",
      "/home/hjin/miniconda3/envs/ogw/lib/python3.7/site-packages/ot/optim.py:305: RuntimeWarning: divide by zero encountered in double_scalars\n",
      "  relative_delta_fval = abs_delta_fval / abs(f_val)\n",
      "/home/hjin/miniconda3/envs/ogw/lib/python3.7/site-packages/ot/optim.py:305: RuntimeWarning: invalid value encountered in double_scalars\n",
      "  relative_delta_fval = abs_delta_fval / abs(f_val)\n",
      "/home/hjin/miniconda3/envs/ogw/lib/python3.7/site-packages/ot/optim.py:305: RuntimeWarning: divide by zero encountered in double_scalars\n",
      "  relative_delta_fval = abs_delta_fval / abs(f_val)\n",
      "/home/hjin/miniconda3/envs/ogw/lib/python3.7/site-packages/ot/optim.py:305: RuntimeWarning: invalid value encountered in double_scalars\n",
      "  relative_delta_fval = abs_delta_fval / abs(f_val)\n",
      "2022-02-28 00:52:38,567 - calcualte GW_lb \n",
      "2022-02-28 00:52:41,178 - calcualte OGW_lb \n",
      "2022-02-28 00:52:50,810 - calcualte OGW_ub \n"
     ]
    }
   ],
   "source": [
    "# calculate pairwise distance in parallel\n",
    "\n",
    "def calc_D_GW(i, j, D):\n",
    "    T, gw_log = gromov_wasserstein(Cs[i], Cs[j], ps[i], ps[j], loss_fun=\"square_loss\", log=True)\n",
    "    D[i, j] = gw_log['gw_dist']\n",
    "\n",
    "\n",
    "def calc_D_GW_lb(i, j, D):\n",
    "    D[i, j] = tlb(Cs[i], Cs[j])\n",
    "\n",
    "\n",
    "def calc_D_OGW_lb(i, j, D):\n",
    "    D[i, j] = gwtil_lb(Cs[i], Cs[j])\n",
    "\n",
    "\n",
    "def calc_D_OGW_ub(i, j, D):\n",
    "    D[i, j] = gwtil_ub(Cs[i], Cs[j])\n",
    "\n",
    "\n",
    "# GW\n",
    "fn_mm = osp.join(ROOT, dsname, \"D_GW\")\n",
    "D_GW = np.memmap(fn_mm, mode=\"w+\", shape=(N, N), dtype=float)\n",
    "\n",
    "logging.info(f\"calcualte GW\")\n",
    "Parallel(n_jobs=-1, backend=\"multiprocessing\")(\n",
    "    delayed(calc_D_GW)(i, j, D_GW) for i in range(N) for j in range(i + 1, N))\n",
    "D_GW += D_GW.T\n",
    "\n",
    "pickle.dump(D_GW, open(osp.join(SAVED_PATH, \"D_GW.pkl\"), \"wb\"))\n",
    "\n",
    "# GW_lb\n",
    "fn_mm = osp.join(ROOT, dsname, \"D_GW_lb\")\n",
    "D_GW_lb = np.memmap(fn_mm, mode=\"w+\", shape=(N, N), dtype=float)\n",
    "\n",
    "logging.info(f\"calcualte GW_lb\")\n",
    "Parallel(n_jobs=-1, backend=\"multiprocessing\")(\n",
    "    delayed(calc_D_GW_lb)(i, j, D_GW_lb) for i in range(N) for j in range(i + 1, N))\n",
    "D_GW_lb += D_GW_lb.T\n",
    "\n",
    "pickle.dump(D_GW_lb, open(osp.join(SAVED_PATH, \"D_GW_lb.pkl\"), \"wb\"))\n",
    "\n",
    "# OGW_lb\n",
    "fn_mm = osp.join(ROOT, dsname, \"D_OGW_lb\")\n",
    "D_OGW_lb = np.memmap(fn_mm, mode=\"w+\", shape=(N, N), dtype=float)\n",
    "\n",
    "logging.info(f\"calcualte OGW_lb\")\n",
    "Parallel(n_jobs=-1, backend=\"multiprocessing\")(\n",
    "    delayed(calc_D_OGW_lb)(i, j, D_OGW_lb) for i in range(N) for j in range(i + 1, N))\n",
    "D_OGW_lb += D_OGW_lb.T\n",
    "\n",
    "pickle.dump(D_OGW_lb, open(osp.join(SAVED_PATH, \"D_OGW_lb.pkl\"), \"wb\"))\n",
    "\n",
    "# OGW_ub\n",
    "fn_mm = osp.join(ROOT, dsname, \"D_OGW_ub\")\n",
    "D_OGW_ub = np.memmap(fn_mm, mode=\"w+\", shape=(N, N), dtype=float)\n",
    "\n",
    "logging.info(f\"calcualte OGW_ub\")\n",
    "Parallel(n_jobs=-1, backend=\"multiprocessing\")(\n",
    "    delayed(calc_D_OGW_ub)(i, j, D_OGW_ub) for i in range(N) for j in range(i + 1, N))\n",
    "D_OGW_ub += D_OGW_ub.T\n",
    "\n",
    "pickle.dump(D_OGW_ub, open(osp.join(SAVED_PATH, \"D_OGW_ub.pkl\"), \"wb\"))\n"
   ]
  },
  {
   "cell_type": "code",
   "execution_count": 4,
   "metadata": {},
   "outputs": [
    {
     "data": {
      "text/plain": [
       "Text(0, 0.5, 'Density')"
      ]
     },
     "execution_count": 4,
     "metadata": {},
     "output_type": "execute_result"
    },
    {
     "data": {
      "image/png": "[encoded data removed]",
      "text/plain": [
       "<Figure size 432x288 with 1 Axes>"
      ]
     },
     "metadata": {
      "needs_background": "light"
     },
     "output_type": "display_data"
    }
   ],
   "source": [
    "# plot\n",
    "GW_diff = np.abs(np.triu(D_GW - D_GW_lb, k=1))\n",
    "OGW_diff = np.abs(np.triu(D_OGW_ub - D_OGW_lb, k=1))\n",
    "\n",
    "fig = plt.figure(tight_layout=True)\n",
    "sns.kdeplot(GW_diff[GW_diff > 1e-4].flatten(), shade=True, color=\"r\", label=\"GW\", log_scale=True)\n",
    "sns.kdeplot(OGW_diff[OGW_diff > 1e-4].flatten(), shade=True, color=\"b\", label=\"OGW\", log_scale=True)\n",
    "\n",
    "plt.legend(loc=\"lower left\",\n",
    "           ncol=2,\n",
    "           prop={'size': 7},\n",
    "           bbox_to_anchor=(0., 1.02, 1., .2),\n",
    "           mode=\"expand\")\n",
    "plt.xlabel(\"Gap\", fontsize=9)\n",
    "plt.ylabel(\"Density\", fontsize=9)\n"
   ]
  },
  {
   "cell_type": "code",
   "execution_count": null,
   "metadata": {},
   "outputs": [],
   "source": []
  }
 ],
 "metadata": {
  "interpreter": {
   "hash": "85e7174627291131be3b91f62098ed26abc73d0f3523a6debbb1d010e9c02452"
  },
  "kernelspec": {
   "display_name": "Python 3.7.11 ('ogw')",
   "language": "python",
   "name": "python3"
  },
  "language_info": {
   "codemirror_mode": {
    "name": "ipython",
    "version": 3
   },
   "file_extension": ".py",
   "mimetype": "text/x-python",
   "name": "python",
   "nbconvert_exporter": "python",
   "pygments_lexer": "ipython3",
   "version": "3.7.11"
  },
  "orig_nbformat": 4
 },
 "nbformat": 4,
 "nbformat_minor": 2
}
