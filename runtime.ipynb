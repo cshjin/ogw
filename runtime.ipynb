{
 "cells": [
  {
   "cell_type": "markdown",
   "metadata": {},
   "source": [
    "# Check the walltime of lower bounds from GW and OGW"
   ]
  },
  {
   "cell_type": "code",
   "execution_count": 1,
   "metadata": {},
   "outputs": [
    {
     "name": "stderr",
     "output_type": "stream",
     "text": [
      "/home/hjin/miniconda3/envs/ogw_dev/lib/python3.7/site-packages/tqdm/auto.py:22: TqdmWarning: IProgress not found. Please update jupyter and ipywidgets. See https://ipywidgets.readthedocs.io/en/stable/user_install.html\n",
      "  from .autonotebook import tqdm as notebook_tqdm\n"
     ]
    }
   ],
   "source": [
    "import pickle\n",
    "import os.path as osp\n",
    "from collections import defaultdict\n",
    "\n",
    "import matplotlib.pyplot as plt\n",
    "import networkx as nx\n",
    "import numpy as np\n",
    "from torch_geometric.datasets import TUDataset\n",
    "from tqdm import tqdm\n",
    "\n",
    "from ogw.gromov_prox import projection_matrix, quad_solver\n",
    "from ogw.gw_lb import flb, slb, tlb\n",
    "from ogw.ogw_dist import ogw_lb_v2\n",
    "from ogw.utils import random_perturb\n",
    "from scipy.linalg import eigvalsh, svdvals\n",
    "\n",
    "from time import time\n",
    "np.set_printoptions(3)\n",
    "np.random.seed(1)"
   ]
  },
  {
   "cell_type": "code",
   "execution_count": 3,
   "metadata": {},
   "outputs": [],
   "source": [
    "graphs = defaultdict(list)\n",
    "sizes = [10 * i for i in range(1, 10)] + [100 * i for i in range(1, 11)]\n",
    "# sizes = [50]\n",
    "samples = 20\n",
    "for n in sizes:\n",
    "    for _ in range(samples):\n",
    "        G = nx.erdos_renyi_graph(int(n), 0.6)\n",
    "        C = nx.floyd_warshall_numpy(G)\n",
    "        graphs[n].append(C)\n"
   ]
  },
  {
   "cell_type": "code",
   "execution_count": null,
   "metadata": {},
   "outputs": [],
   "source": [
    "tc_flb = []\n",
    "for s in sizes:\n",
    "    tic = time()\n",
    "    for i in range(samples):\n",
    "        for j in range(samples):\n",
    "            d = flb(graphs[s][i], graphs[s][j])\n",
    "    toc = time()\n",
    "    tc_flb.append(toc - tic)\n",
    "\n",
    "print(np.mean(tc_flb), np.std(tc_flb))\n",
    "\n",
    "\n",
    "#\n",
    "tc_slb = []\n",
    "for s in sizes:\n",
    "    tic = time()\n",
    "    for i in range(samples):\n",
    "        for j in range(samples):\n",
    "            d = slb(graphs[s][i], graphs[s][j])\n",
    "    toc = time()\n",
    "    tc_slb.append(toc - tic)\n",
    "\n",
    "print(np.mean(tc_slb), np.std(tc_slb))\n",
    "\n",
    "\n",
    "#\n",
    "tc_tlb = []\n",
    "for s in sizes:\n",
    "    tic = time()\n",
    "    for i in range(samples):\n",
    "        for j in range(samples):\n",
    "            d = tlb(graphs[s][i], graphs[s][j])\n",
    "    toc = time()\n",
    "    tc_tlb.append(toc - tic)\n",
    "\n",
    "print(np.mean(tc_tlb), np.std(tc_tlb))\n",
    "\n",
    "\n",
    "#\n",
    "tc_ogw = []\n",
    "for s in sizes:\n",
    "    V = projection_matrix(s)\n",
    "    tic = time()\n",
    "    for i in range(samples):\n",
    "        for j in range(samples):\n",
    "            d = ogw_lb_v2(graphs[s][i], graphs[s][j], V=V)\n",
    "    toc = time()\n",
    "    tc_ogw.append(toc - tic)\n",
    "    # tc_ogw.append(t)\n",
    "\n",
    "\n",
    "print(np.mean(tc_ogw), np.std(tc_ogw))\n"
   ]
  },
  {
   "cell_type": "code",
   "execution_count": null,
   "metadata": {},
   "outputs": [],
   "source": [
    "fig = plt.figure(figsize=(5, 5))\n",
    "plt.loglog(sizes, tc_tlb,\"--\", label=r\"$\\mathsf{GW}_{tlb}$\")\n",
    "plt.loglog(sizes, tc_slb,\"--\", label=r\"$\\mathsf{GW}_{slb}$\")\n",
    "plt.loglog(sizes, tc_ogw,\"-\", label=r\"$\\mathsf{OGW}_{lb}$\")\n",
    "plt.loglog(sizes, tc_flb,\"--\", label=r\"$\\mathsf{GW}_{flb}$\")\n",
    "plt.xlabel(\"number of nodes\")\n",
    "plt.ylabel(\"Wall time (s)\")\n",
    "plt.legend(ncol=2)\n",
    "plt.tight_layout()"
   ]
  }
 ],
 "metadata": {
  "interpreter": {
   "hash": "39d30703235ff8d8f92fc9e08c4da0f40b25c85d8d716fb19b500408773c02c4"
  },
  "kernelspec": {
   "display_name": "Python 3.7.13 ('ogw_dev')",
   "language": "python",
   "name": "python3"
  },
  "language_info": {
   "codemirror_mode": {
    "name": "ipython",
    "version": 3
   },
   "file_extension": ".py",
   "mimetype": "text/x-python",
   "name": "python",
   "nbconvert_exporter": "python",
   "pygments_lexer": "ipython3",
   "version": "3.7.13"
  },
  "orig_nbformat": 4
 },
 "nbformat": 4,
 "nbformat_minor": 2
}
